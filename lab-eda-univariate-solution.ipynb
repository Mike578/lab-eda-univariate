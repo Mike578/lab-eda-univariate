{
 "cells": [
  {
   "cell_type": "markdown",
   "id": "ff950b88-17ac-41eb-aa41-ad70413b81c7",
   "metadata": {},
   "source": [
    "## Lab - EDA Univariate Analysis: Diving into Amazon UK Product Insights"
   ]
  },
  {
   "cell_type": "markdown",
   "id": "3f94d7cc-b108-48ea-88c0-d7557b0d1010",
   "metadata": {},
   "source": [
    "## Part 1: Understanding Product Categories"
   ]
  },
  {
   "cell_type": "markdown",
   "id": "c4399d53-3186-4a06-b120-6ce3ab125aa7",
   "metadata": {},
   "source": [
    "**Business Question**: What are the most popular product categories on Amazon UK, and how do they compare in terms of listing frequency?"
   ]
  },
  {
   "cell_type": "markdown",
   "id": "64f99549-0d78-4ff5-8b5a-7279e57cdb7e",
   "metadata": {},
   "source": [
    "**Frequency Tables:**"
   ]
  },
  {
   "cell_type": "code",
   "execution_count": null,
   "id": "6d7b1664-c28e-4316-9ace-96d5b87aa7d9",
   "metadata": {},
   "outputs": [],
   "source": [
    "import pandas as pd\n",
    "\n",
    "# Load the dataset - point here to your folder where the dataset is \n",
    "df = pd.read_csv('amz_uk_price_prediction_dataset.csv') "
   ]
  },
  {
   "cell_type": "code",
   "execution_count": null,
   "id": "da436d33-6d7e-4647-9c8e-6595f6087f76",
   "metadata": {},
   "outputs": [],
   "source": [
    "# Generate a frequency table for the product category\n",
    "category_freq = df['category'].value_counts()\n",
    "category_freq.head(5)"
   ]
  },
  {
   "cell_type": "markdown",
   "id": "dca7a0f1-658f-439f-a4da-bc8887a21785",
   "metadata": {},
   "source": [
    "**Visualizations:**"
   ]
  },
  {
   "cell_type": "code",
   "execution_count": null,
   "id": "396a9f2c-5e48-464c-95fc-ea0905002d35",
   "metadata": {},
   "outputs": [],
   "source": [
    "import seaborn as sns\n",
    "import matplotlib.pyplot as plt\n",
    "\n",
    "# Bar chart\n",
    "plt.figure(figsize=(12, 6))\n",
    "sns.countplot(data=df, y='category', order=category_freq.index, palette=\"viridis\")\n",
    "plt.title('Distribution of Product Categories')\n",
    "plt.show()\n",
    "\n",
    "# Pie chart for top 5 categories\n",
    "top_categories = category_freq.head(5)\n",
    "top_categories.plot.pie(autopct='%1.1f%%', startangle=90, colors=sns.color_palette(\"viridis\", 5))\n",
    "plt.title('Top 5 Product Categories')\n",
    "plt.ylabel('')\n",
    "plt.show()\n",
    "\n",
    "# To do - just show top categories in countplot"
   ]
  },
  {
   "cell_type": "markdown",
   "id": "69f01c45-a030-4012-b52d-c8e523fa499b",
   "metadata": {},
   "source": [
    "**Interpretation for Part 1: Understanding Product Categories**\n",
    "\n",
    "The most popular product categories on Amazon UK, based on listing frequency, are as follows:\n",
    "\n",
    "1. **Sports & Outdoors** with 836,265 listings, overwhelmingly dominates the platform.\n",
    "2. **Beauty** with 19,312 listings.\n",
    "3. **Handmade Clothing, Shoes & Accessories** with 19,229 listings.\n",
    "4. **Bath & Body** with 19,092 listings.\n",
    "5. **Birthday Gifts** with 18,978 listings.\n",
    "\n",
    "Clearly, \"Sports & Outdoors\" stands out as the most listed category by a significant margin. The other categories in the top 5 have comparable numbers of listings, but they pale in comparison to \"Sports & Outdoors.\"\n",
    "\n",
    "Given the vast difference between the first category and the rest, sellers dealing in \"Sports & Outdoors\" products might face higher competition on Amazon UK. At the same time, the sheer volume suggests a potential high demand in this category."
   ]
  },
  {
   "cell_type": "markdown",
   "id": "9941d968-c463-49fc-9709-360b2b4066d6",
   "metadata": {},
   "source": [
    "## Part 2: Delving into Product Pricing"
   ]
  },
  {
   "cell_type": "markdown",
   "id": "05fff8ab-3fa6-4944-a9a9-f894ce2c70e7",
   "metadata": {},
   "source": [
    "**Business Question**: How are products priced on Amazon UK, and are there specific price points or ranges that are more common?"
   ]
  },
  {
   "cell_type": "markdown",
   "id": "0ae7010a-9dd7-42b4-8bf4-5d521365cc3b",
   "metadata": {},
   "source": [
    "**Measures of Centrality:**"
   ]
  },
  {
   "cell_type": "code",
   "execution_count": null,
   "id": "b895d48c-e91a-4841-815b-adae04f41bb0",
   "metadata": {},
   "outputs": [],
   "source": [
    "mean_price = df['price'].mean()\n",
    "median_price = df['price'].median()\n",
    "mode_price = df['price'].mode()[0]\n",
    "\n",
    "mean_price, median_price, mode_price\n"
   ]
  },
  {
   "cell_type": "markdown",
   "id": "93afbbc6-002c-47ec-850a-d98ba3361686",
   "metadata": {},
   "source": [
    "**Measures of Dispersion:**"
   ]
  },
  {
   "cell_type": "code",
   "execution_count": null,
   "id": "e9d9e8de-8d09-46cb-90b3-4407ebf29313",
   "metadata": {},
   "outputs": [],
   "source": [
    "variance_price = df['price'].var()\n",
    "std_dev_price = df['price'].std()\n",
    "min_price = df['price'].min()\n",
    "max_price = df['price'].max()\n",
    "q1 = df['price'].quantile(0.25)\n",
    "q3 = df['price'].quantile(0.75)\n",
    "iqr = df['price'].quantile(0.75) - df['price'].quantile(0.25)\n",
    "\n",
    "variance_price, std_dev_price, min_price, max_price, q1, q3, iqr\n"
   ]
  },
  {
   "cell_type": "markdown",
   "id": "0d1d4ce0-eead-4a36-a9ea-288ac895487d",
   "metadata": {},
   "source": [
    "**Interpretation**:\n",
    "\n",
    "- The average (mean) price of products listed on Amazon UK is approximately £89.24.\n",
    "- The median price of the products (the middle value when sorted) is £19.09. This is notably lower than the mean, suggesting that there are several high-priced items skewing the average upwards.\n",
    "- The lowest priced item(s) on Amazon UK are available for free (or £0.00, which might indicate certain promotional products or digital products).\n",
    "- The highest priced item is listed at £100,000. This indicates the presence of some luxury or niche items on the platform.\n",
    "- The interquartile range (25% to 75% percentile) shows that 50% of the products on Amazon UK are priced between £9.99 and £45.99. This gives a sense of the typical price range for a majority of products.\n",
    "  \n",
    "From a business perspective, it's clear that while Amazon UK does cater to premium segments, a significant portion of its product listings are more affordably priced, making it accessible to a broader customer base.\n",
    "\n",
    "Now, let's visually represent the distribution of product prices using histograms and box plots."
   ]
  },
  {
   "cell_type": "markdown",
   "id": "9397b694-7bd6-4a78-bede-88da6030e483",
   "metadata": {},
   "source": [
    "**Visualizations:**"
   ]
  },
  {
   "cell_type": "code",
   "execution_count": null,
   "id": "4c6eed99-1de6-4ef5-9bba-5a6c31099762",
   "metadata": {},
   "outputs": [],
   "source": [
    "# Histogram for product prices\n",
    "plt.figure(figsize=(10, 6))\n",
    "sns.histplot(data = df['price'], bins=30, kde=True, color=\"skyblue\")\n",
    "plt.title('Distribution of Product Prices')\n",
    "plt.show()\n",
    "\n",
    "# Boxplot for product prices\n",
    "plt.figure(figsize=(8, 6))\n",
    "sns.boxplot(data = df['price'], color=\"lightblue\")\n",
    "plt.title('Box Plot of Product Prices')\n",
    "plt.show()"
   ]
  },
  {
   "cell_type": "markdown",
   "id": "9761157e-0229-4046-8db6-6c4f89c80bc0",
   "metadata": {},
   "source": [
    "Both histograms and boxplots are really hard to read due to huge outliers."
   ]
  },
  {
   "cell_type": "markdown",
   "id": "dea902c6-f031-4704-9c77-a882a2b82c9f",
   "metadata": {},
   "source": [
    "\n",
    "\n",
    "In conclusion, while most products on Amazon UK are priced within a lower range (as seen from the statistics above), there are a few products that are priced significantly higher, which can be considered outliers."
   ]
  },
  {
   "cell_type": "markdown",
   "id": "fcea0de8-d970-4701-9245-9a4788592603",
   "metadata": {
    "tags": []
   },
   "source": [
    "## Part 3: Unpacking Product Ratings"
   ]
  },
  {
   "cell_type": "markdown",
   "id": "4d82146c-731d-42cd-8ce1-bddf6f2db2f0",
   "metadata": {},
   "source": [
    "**Business Question**: How do customers rate products on Amazon UK, and are there any patterns or tendencies in the ratings?"
   ]
  },
  {
   "cell_type": "markdown",
   "id": "81bcdc9e-ff5c-4d58-a27c-f33381c4c111",
   "metadata": {},
   "source": [
    "**Measures of Centrality:**"
   ]
  },
  {
   "cell_type": "markdown",
   "id": "242961f9-9b64-490d-940e-e4e72bd68c58",
   "metadata": {},
   "source": [
    "We'll begin by calculating the mean, median, and mode for the stars (rating) of products to understand how customers generally rate products on Amazon UK."
   ]
  },
  {
   "cell_type": "code",
   "execution_count": null,
   "id": "2f6ec921-2eca-450b-b0b5-5e7cbccf3bb3",
   "metadata": {},
   "outputs": [],
   "source": [
    "mean_rating = df['stars'].mean()\n",
    "median_rating = df['stars'].median()\n",
    "mode_rating = df['stars'].mode()[0]\n",
    "\n",
    "mean_rating, median_rating, mode_rating"
   ]
  },
  {
   "cell_type": "markdown",
   "id": "fba08690-5a31-4da7-9d02-e94f9ba3adb6",
   "metadata": {},
   "source": [
    "Here are the measures of centrality for the product ratings:\n",
    "\n",
    "1. **Mean Rating**: Approximately \\(2.15\\)\n",
    "2. **Median Rating**: \\(0.0\\)\n",
    "3. **Mode (Most Common Rating)**: \\(0.0\\)\n",
    "\n",
    "The results are intriguing. While the mean rating is a bit above 2, both the median and mode are 0. This suggests that there is a large number of products with a rating of 0. This could possibly indicate products that haven't received any ratings yet or products for which ratings are unavailable. "
   ]
  },
  {
   "cell_type": "markdown",
   "id": "66482095-08ad-4d6e-8f98-b8cc9bee5c0e",
   "metadata": {},
   "source": [
    "**Measures of Dispersion:**"
   ]
  },
  {
   "cell_type": "markdown",
   "id": "4cb785d6-33fd-4703-8cbf-80f2aa365000",
   "metadata": {},
   "source": [
    "Next, let's determine the variance, standard deviation, and interquartile range for product ratings. This will help us understand the consistency or variation in customer feedback."
   ]
  },
  {
   "cell_type": "code",
   "execution_count": null,
   "id": "045d4c7f-d9ec-4386-ae2e-bf570a80ceee",
   "metadata": {},
   "outputs": [],
   "source": [
    "variance_rating = df['stars'].var()\n",
    "std_dev_rating = df['stars'].std()\n",
    "iqr_rating = df['stars'].quantile(0.75) - df['stars'].quantile(0.25)\n",
    "\n",
    "variance_rating, std_dev_rating, iqr_rating\n"
   ]
  },
  {
   "cell_type": "markdown",
   "id": "6ccfb752-4c5c-4952-b166-d7ba3bdcd095",
   "metadata": {},
   "source": [
    "Here are the measures of dispersion for the product ratings:\n",
    "\n",
    "1. **Variance**: Approximately \\(4.82\\)\n",
    "2. **Standard Deviation**: Approximately \\(2.19\\)\n",
    "3. **Interquartile Range (IQR)**: \\(4.4\\)\n",
    "\n",
    "The relatively high standard deviation suggests that the ratings are spread out from the mean. The IQR indicates that the middle 50% of ratings span a range of 4.4 stars, which is quite a broad range, indicating a wide variation in customer feedback."
   ]
  },
  {
   "cell_type": "markdown",
   "id": "15d83b92-e818-48b5-8260-9023f9a5c4cd",
   "metadata": {},
   "source": [
    "**Shape of the Distribution:**"
   ]
  },
  {
   "cell_type": "markdown",
   "id": "5a382300-eaef-4067-9851-f48f886f0f98",
   "metadata": {},
   "source": [
    "Now, let's calculate the skewness and kurtosis for the `stars` (rating) column to determine the shape of the ratings distribution."
   ]
  },
  {
   "cell_type": "code",
   "execution_count": null,
   "id": "70913f02-8e62-4cd2-8602-22cb5684cebd",
   "metadata": {},
   "outputs": [],
   "source": [
    "skewness_rating = df['stars'].skew()\n",
    "kurtosis_rating = df['stars'].kurtosis()\n",
    "\n",
    "skewness_rating, kurtosis_rating\n"
   ]
  },
  {
   "cell_type": "markdown",
   "id": "0425354d-a854-41f9-96b8-eac52f9bf536",
   "metadata": {},
   "source": [
    "Here are the measures related to the shape of the distribution for product ratings:\n",
    "\n",
    "1. **Skewness**: Approximately \\(0.0812\\)\n",
    "   - This value is close to 0, suggesting that the distribution is approximately symmetric around the mean. \n",
    "2. **Kurtosis**: Approximately \\(-1.926\\)\n",
    "   - This negative value indicates that the distribution has lighter tails and a flatter peak compared to a normal distribution. It's termed as \"platykurtic\"."
   ]
  },
  {
   "cell_type": "markdown",
   "id": "4d3fe7c7-e295-4631-b93f-fbd247f3603d",
   "metadata": {},
   "source": [
    "**Visualizations:**"
   ]
  },
  {
   "cell_type": "markdown",
   "id": "0d476261-61b9-4f10-aad6-1f18460d48f2",
   "metadata": {},
   "source": [
    "Let's visualize the distribution of product ratings using a histogram."
   ]
  },
  {
   "cell_type": "code",
   "execution_count": null,
   "id": "d267f577-f441-4f3e-97af-a0fa932c54f2",
   "metadata": {
    "tags": []
   },
   "outputs": [],
   "source": [
    "# Histogram for product ratings\n",
    "plt.figure(figsize=(10, 6))\n",
    "sns.histplot(data = df['stars'], bins=20, kde=True, color=\"skyblue\")\n",
    "plt.title('Distribution of Product Ratings')\n",
    "plt.show()"
   ]
  },
  {
   "cell_type": "markdown",
   "id": "b84937dc-a448-4ea4-9a01-36b1c2e88ca9",
   "metadata": {},
   "source": [
    "From the visualizations, we can infer the following:\n",
    "\n",
    "**Histogram**:\n",
    "1. A large number of products have a rating of 0, which confirms our earlier observation. These could be products without any reviews or ratings.\n",
    "2. Among products with ratings, there seems to be a trend of higher ratings (around 4 to 5 stars) being more common.\n"
   ]
  }
 ],
 "metadata": {
  "kernelspec": {
   "display_name": "Python 3 (ipykernel)",
   "language": "python",
   "name": "python3"
  },
  "language_info": {
   "codemirror_mode": {
    "name": "ipython",
    "version": 3
   },
   "file_extension": ".py",
   "mimetype": "text/x-python",
   "name": "python",
   "nbconvert_exporter": "python",
   "pygments_lexer": "ipython3",
   "version": "3.9.13"
  }
 },
 "nbformat": 4,
 "nbformat_minor": 5
}
