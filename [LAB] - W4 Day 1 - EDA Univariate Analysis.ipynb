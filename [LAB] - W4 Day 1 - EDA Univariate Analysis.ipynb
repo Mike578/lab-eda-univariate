{
 "cells": [
  {
   "cell_type": "markdown",
   "metadata": {},
   "source": [
    "#### Objective: Explore the product listing dynamics on Amazon UK to extract actionable business insights. By understanding the distribution, central tendencies, and relationships of various product attributes, businesses can make more informed decisions on product positioning, pricing strategies, and inventory management."
   ]
  },
  {
   "cell_type": "code",
   "execution_count": 4,
   "metadata": {},
   "outputs": [],
   "source": [
    "import pandas as pd\n",
    "import matplotlib.pyplot as plt\n",
    "import seaborn as sns\n",
    "import numpy as np\n",
    "\n",
    "%matplotlib inline"
   ]
  },
  {
   "cell_type": "code",
   "execution_count": 19,
   "metadata": {},
   "outputs": [],
   "source": [
    "#breakline definition\n",
    "def breakline():\n",
    "  print('\\n','\\n')"
   ]
  },
  {
   "cell_type": "code",
   "execution_count": 6,
   "metadata": {},
   "outputs": [],
   "source": [
    "#Initialization: reading the csv file\n",
    "df = pd.read_csv(\"amz_uk_price_prediction_dataset.csv\")"
   ]
  },
  {
   "cell_type": "code",
   "execution_count": 7,
   "metadata": {},
   "outputs": [
    {
     "data": {
      "text/html": [
       "<div>\n",
       "<style scoped>\n",
       "    .dataframe tbody tr th:only-of-type {\n",
       "        vertical-align: middle;\n",
       "    }\n",
       "\n",
       "    .dataframe tbody tr th {\n",
       "        vertical-align: top;\n",
       "    }\n",
       "\n",
       "    .dataframe thead th {\n",
       "        text-align: right;\n",
       "    }\n",
       "</style>\n",
       "<table border=\"1\" class=\"dataframe\">\n",
       "  <thead>\n",
       "    <tr style=\"text-align: right;\">\n",
       "      <th></th>\n",
       "      <th>uid</th>\n",
       "      <th>asin</th>\n",
       "      <th>title</th>\n",
       "      <th>stars</th>\n",
       "      <th>reviews</th>\n",
       "      <th>price</th>\n",
       "      <th>isBestSeller</th>\n",
       "      <th>boughtInLastMonth</th>\n",
       "      <th>category</th>\n",
       "    </tr>\n",
       "  </thead>\n",
       "  <tbody>\n",
       "    <tr>\n",
       "      <th>0</th>\n",
       "      <td>1</td>\n",
       "      <td>B09B96TG33</td>\n",
       "      <td>Echo Dot (5th generation, 2022 release) | Big ...</td>\n",
       "      <td>4.7</td>\n",
       "      <td>15308</td>\n",
       "      <td>21.99</td>\n",
       "      <td>False</td>\n",
       "      <td>0</td>\n",
       "      <td>Hi-Fi Speakers</td>\n",
       "    </tr>\n",
       "    <tr>\n",
       "      <th>1</th>\n",
       "      <td>2</td>\n",
       "      <td>B01HTH3C8S</td>\n",
       "      <td>Anker Soundcore mini, Super-Portable Bluetooth...</td>\n",
       "      <td>4.7</td>\n",
       "      <td>98099</td>\n",
       "      <td>23.99</td>\n",
       "      <td>True</td>\n",
       "      <td>0</td>\n",
       "      <td>Hi-Fi Speakers</td>\n",
       "    </tr>\n",
       "    <tr>\n",
       "      <th>2</th>\n",
       "      <td>3</td>\n",
       "      <td>B09B8YWXDF</td>\n",
       "      <td>Echo Dot (5th generation, 2022 release) | Big ...</td>\n",
       "      <td>4.7</td>\n",
       "      <td>15308</td>\n",
       "      <td>21.99</td>\n",
       "      <td>False</td>\n",
       "      <td>0</td>\n",
       "      <td>Hi-Fi Speakers</td>\n",
       "    </tr>\n",
       "    <tr>\n",
       "      <th>3</th>\n",
       "      <td>4</td>\n",
       "      <td>B09B8T5VGV</td>\n",
       "      <td>Echo Dot with clock (5th generation, 2022 rele...</td>\n",
       "      <td>4.7</td>\n",
       "      <td>7205</td>\n",
       "      <td>31.99</td>\n",
       "      <td>False</td>\n",
       "      <td>0</td>\n",
       "      <td>Hi-Fi Speakers</td>\n",
       "    </tr>\n",
       "    <tr>\n",
       "      <th>4</th>\n",
       "      <td>5</td>\n",
       "      <td>B09WX6QD65</td>\n",
       "      <td>Introducing Echo Pop | Full sound compact Wi-F...</td>\n",
       "      <td>4.6</td>\n",
       "      <td>1881</td>\n",
       "      <td>17.99</td>\n",
       "      <td>False</td>\n",
       "      <td>0</td>\n",
       "      <td>Hi-Fi Speakers</td>\n",
       "    </tr>\n",
       "  </tbody>\n",
       "</table>\n",
       "</div>"
      ],
      "text/plain": [
       "   uid        asin                                              title  stars  \\\n",
       "0    1  B09B96TG33  Echo Dot (5th generation, 2022 release) | Big ...    4.7   \n",
       "1    2  B01HTH3C8S  Anker Soundcore mini, Super-Portable Bluetooth...    4.7   \n",
       "2    3  B09B8YWXDF  Echo Dot (5th generation, 2022 release) | Big ...    4.7   \n",
       "3    4  B09B8T5VGV  Echo Dot with clock (5th generation, 2022 rele...    4.7   \n",
       "4    5  B09WX6QD65  Introducing Echo Pop | Full sound compact Wi-F...    4.6   \n",
       "\n",
       "   reviews  price  isBestSeller  boughtInLastMonth        category  \n",
       "0    15308  21.99         False                  0  Hi-Fi Speakers  \n",
       "1    98099  23.99          True                  0  Hi-Fi Speakers  \n",
       "2    15308  21.99         False                  0  Hi-Fi Speakers  \n",
       "3     7205  31.99         False                  0  Hi-Fi Speakers  \n",
       "4     1881  17.99         False                  0  Hi-Fi Speakers  "
      ]
     },
     "execution_count": 7,
     "metadata": {},
     "output_type": "execute_result"
    }
   ],
   "source": [
    "df.head()"
   ]
  },
  {
   "cell_type": "code",
   "execution_count": 9,
   "metadata": {},
   "outputs": [
    {
     "data": {
      "text/plain": [
       "(2443651, 9)"
      ]
     },
     "execution_count": 9,
     "metadata": {},
     "output_type": "execute_result"
    }
   ],
   "source": [
    "df.shape"
   ]
  },
  {
   "cell_type": "code",
   "execution_count": 11,
   "metadata": {},
   "outputs": [
    {
     "data": {
      "text/html": [
       "<div>\n",
       "<style scoped>\n",
       "    .dataframe tbody tr th:only-of-type {\n",
       "        vertical-align: middle;\n",
       "    }\n",
       "\n",
       "    .dataframe tbody tr th {\n",
       "        vertical-align: top;\n",
       "    }\n",
       "\n",
       "    .dataframe thead th {\n",
       "        text-align: right;\n",
       "    }\n",
       "</style>\n",
       "<table border=\"1\" class=\"dataframe\">\n",
       "  <thead>\n",
       "    <tr style=\"text-align: right;\">\n",
       "      <th></th>\n",
       "      <th>uid</th>\n",
       "      <th>stars</th>\n",
       "      <th>reviews</th>\n",
       "      <th>price</th>\n",
       "      <th>boughtInLastMonth</th>\n",
       "    </tr>\n",
       "  </thead>\n",
       "  <tbody>\n",
       "    <tr>\n",
       "      <th>count</th>\n",
       "      <td>2.443651e+06</td>\n",
       "      <td>2.443651e+06</td>\n",
       "      <td>2.443651e+06</td>\n",
       "      <td>2.443651e+06</td>\n",
       "      <td>2.443651e+06</td>\n",
       "    </tr>\n",
       "    <tr>\n",
       "      <th>mean</th>\n",
       "      <td>1.370545e+06</td>\n",
       "      <td>2.152836e+00</td>\n",
       "      <td>4.806278e+02</td>\n",
       "      <td>8.924381e+01</td>\n",
       "      <td>2.589699e+01</td>\n",
       "    </tr>\n",
       "    <tr>\n",
       "      <th>std</th>\n",
       "      <td>8.160562e+05</td>\n",
       "      <td>2.194865e+00</td>\n",
       "      <td>5.944124e+03</td>\n",
       "      <td>3.456089e+02</td>\n",
       "      <td>2.404837e+02</td>\n",
       "    </tr>\n",
       "    <tr>\n",
       "      <th>min</th>\n",
       "      <td>1.000000e+00</td>\n",
       "      <td>0.000000e+00</td>\n",
       "      <td>0.000000e+00</td>\n",
       "      <td>0.000000e+00</td>\n",
       "      <td>0.000000e+00</td>\n",
       "    </tr>\n",
       "    <tr>\n",
       "      <th>25%</th>\n",
       "      <td>6.589215e+05</td>\n",
       "      <td>0.000000e+00</td>\n",
       "      <td>0.000000e+00</td>\n",
       "      <td>9.990000e+00</td>\n",
       "      <td>0.000000e+00</td>\n",
       "    </tr>\n",
       "    <tr>\n",
       "      <th>50%</th>\n",
       "      <td>1.349029e+06</td>\n",
       "      <td>0.000000e+00</td>\n",
       "      <td>0.000000e+00</td>\n",
       "      <td>1.909000e+01</td>\n",
       "      <td>0.000000e+00</td>\n",
       "    </tr>\n",
       "    <tr>\n",
       "      <th>75%</th>\n",
       "      <td>2.060686e+06</td>\n",
       "      <td>4.400000e+00</td>\n",
       "      <td>5.900000e+01</td>\n",
       "      <td>4.599000e+01</td>\n",
       "      <td>0.000000e+00</td>\n",
       "    </tr>\n",
       "    <tr>\n",
       "      <th>max</th>\n",
       "      <td>2.828593e+06</td>\n",
       "      <td>5.000000e+00</td>\n",
       "      <td>1.356658e+06</td>\n",
       "      <td>1.000000e+05</td>\n",
       "      <td>5.000000e+04</td>\n",
       "    </tr>\n",
       "  </tbody>\n",
       "</table>\n",
       "</div>"
      ],
      "text/plain": [
       "                uid         stars       reviews         price  \\\n",
       "count  2.443651e+06  2.443651e+06  2.443651e+06  2.443651e+06   \n",
       "mean   1.370545e+06  2.152836e+00  4.806278e+02  8.924381e+01   \n",
       "std    8.160562e+05  2.194865e+00  5.944124e+03  3.456089e+02   \n",
       "min    1.000000e+00  0.000000e+00  0.000000e+00  0.000000e+00   \n",
       "25%    6.589215e+05  0.000000e+00  0.000000e+00  9.990000e+00   \n",
       "50%    1.349029e+06  0.000000e+00  0.000000e+00  1.909000e+01   \n",
       "75%    2.060686e+06  4.400000e+00  5.900000e+01  4.599000e+01   \n",
       "max    2.828593e+06  5.000000e+00  1.356658e+06  1.000000e+05   \n",
       "\n",
       "       boughtInLastMonth  \n",
       "count       2.443651e+06  \n",
       "mean        2.589699e+01  \n",
       "std         2.404837e+02  \n",
       "min         0.000000e+00  \n",
       "25%         0.000000e+00  \n",
       "50%         0.000000e+00  \n",
       "75%         0.000000e+00  \n",
       "max         5.000000e+04  "
      ]
     },
     "execution_count": 11,
     "metadata": {},
     "output_type": "execute_result"
    }
   ],
   "source": [
    "df.describe()"
   ]
  },
  {
   "cell_type": "code",
   "execution_count": 12,
   "metadata": {},
   "outputs": [
    {
     "data": {
      "text/plain": [
       "[dtype('bool'), dtype('int64'), dtype('float64'), dtype('O')]"
      ]
     },
     "execution_count": 12,
     "metadata": {},
     "output_type": "execute_result"
    }
   ],
   "source": [
    "# Retrieving the unique data types present in the dataframe columns\n",
    "list(set(df.dtypes.tolist()))"
   ]
  },
  {
   "cell_type": "code",
   "execution_count": 13,
   "metadata": {},
   "outputs": [
    {
     "data": {
      "text/plain": [
       "Index(['uid', 'stars', 'reviews', 'price', 'boughtInLastMonth'], dtype='object')"
      ]
     },
     "execution_count": 13,
     "metadata": {},
     "output_type": "execute_result"
    }
   ],
   "source": [
    "# Extracting column names with numerical data types from the dataframe\n",
    "df.select_dtypes(\"number\").columns"
   ]
  },
  {
   "cell_type": "code",
   "execution_count": 14,
   "metadata": {},
   "outputs": [
    {
     "data": {
      "text/plain": [
       "uid                  2443651\n",
       "price                  82916\n",
       "reviews                19446\n",
       "stars                     42\n",
       "boughtInLastMonth         25\n",
       "dtype: int64"
      ]
     },
     "execution_count": 14,
     "metadata": {},
     "output_type": "execute_result"
    }
   ],
   "source": [
    "# Counting and sorting the unique values for each numerical column in descending order\n",
    "df.select_dtypes(\"number\").nunique().sort_values(ascending=False)"
   ]
  },
  {
   "cell_type": "code",
   "execution_count": 15,
   "metadata": {},
   "outputs": [
    {
     "data": {
      "text/plain": [
       "uid                  0\n",
       "asin                 0\n",
       "title                0\n",
       "stars                0\n",
       "reviews              0\n",
       "price                0\n",
       "isBestSeller         0\n",
       "boughtInLastMonth    0\n",
       "category             0\n",
       "dtype: int64"
      ]
     },
     "execution_count": 15,
     "metadata": {},
     "output_type": "execute_result"
    }
   ],
   "source": [
    "# Checking for missing data\n",
    "df.isnull().sum().sort_values(ascending=False)"
   ]
  },
  {
   "cell_type": "markdown",
   "metadata": {},
   "source": [
    "### Part 1: Understanding Product Categories\n",
    "Business Question: What are the most popular product categories on Amazon UK, and how do they compare in terms of listing frequency?\n",
    "\n"
   ]
  },
  {
   "cell_type": "markdown",
   "metadata": {},
   "source": [
    "1. Frequency Tables:\n",
    "\n",
    "Generate a frequency table for the product category.\n",
    "Which are the top 5 most listed product categories?"
   ]
  },
  {
   "cell_type": "code",
   "execution_count": 21,
   "metadata": {},
   "outputs": [],
   "source": [
    "#Let's focus on the category column\n",
    "\n",
    "# Frequency table for 'category'\n",
    "frequency_table = df['category'].value_counts()\n",
    "\n",
    "# Calculating the proportion of each unique value in the 'MSZoning'\n",
    "proportion_table = df['category'].value_counts(normalize=True)"
   ]
  },
  {
   "cell_type": "code",
   "execution_count": 22,
   "metadata": {},
   "outputs": [
    {
     "data": {
      "text/plain": [
       "(category\n",
       " Sports & Outdoors                         836265\n",
       " Beauty                                     19312\n",
       " Handmade Clothing, Shoes & Accessories     19229\n",
       " Bath & Body                                19092\n",
       " Birthday Gifts                             18978\n",
       "                                            ...  \n",
       " Alexa Built-In Devices                       107\n",
       " Motorbike Chassis                            107\n",
       " Plugs                                        107\n",
       " Smart Home Security & Lighting               104\n",
       " Smart Speakers                                54\n",
       " Name: count, Length: 296, dtype: int64,)"
      ]
     },
     "execution_count": 22,
     "metadata": {},
     "output_type": "execute_result"
    }
   ],
   "source": [
    "frequency_table,"
   ]
  },
  {
   "cell_type": "code",
   "execution_count": 23,
   "metadata": {},
   "outputs": [
    {
     "data": {
      "text/plain": [
       "category\n",
       "Sports & Outdoors                         0.342219\n",
       "Beauty                                    0.007903\n",
       "Handmade Clothing, Shoes & Accessories    0.007869\n",
       "Bath & Body                               0.007813\n",
       "Birthday Gifts                            0.007766\n",
       "                                            ...   \n",
       "Alexa Built-In Devices                    0.000044\n",
       "Motorbike Chassis                         0.000044\n",
       "Plugs                                     0.000044\n",
       "Smart Home Security & Lighting            0.000043\n",
       "Smart Speakers                            0.000022\n",
       "Name: proportion, Length: 296, dtype: float64"
      ]
     },
     "execution_count": 23,
     "metadata": {},
     "output_type": "execute_result"
    }
   ],
   "source": [
    "proportion_table\n"
   ]
  },
  {
   "cell_type": "code",
   "execution_count": 24,
   "metadata": {},
   "outputs": [
    {
     "name": "stdout",
     "output_type": "stream",
     "text": [
      "Top 5 most listed product categories:\n",
      "category\n",
      "Sports & Outdoors                         836265\n",
      "Beauty                                     19312\n",
      "Handmade Clothing, Shoes & Accessories     19229\n",
      "Bath & Body                                19092\n",
      "Birthday Gifts                             18978\n",
      "Name: count, dtype: int64\n"
     ]
    }
   ],
   "source": [
    "# Get the top 5 most listed product categories\n",
    "top_5_categories = frequency_table.head(5)\n",
    "\n",
    "print(\"Top 5 most listed product categories:\")\n",
    "print(top_5_categories)"
   ]
  },
  {
   "cell_type": "markdown",
   "metadata": {},
   "source": [
    "2. Visualizations:\n",
    "\n",
    "Display the distribution of products across different categories using a bar chart. If you face problems understanding the chart, do it for a subset of top categories.\n",
    "For a subset of top categories, visualize their proportions using a pie chart. Does any category dominate the listings?"
   ]
  },
  {
   "cell_type": "code",
   "execution_count": 26,
   "metadata": {},
   "outputs": [
    {
     "data": {
      "image/png": "[encoded data removed]",
      "text/plain": [
       "<Figure size 640x480 with 1 Axes>"
      ]
     },
     "metadata": {},
     "output_type": "display_data"
    }
   ],
   "source": [
    "# Display the distribution of products across different categories using a bar chart.\n",
    "\n",
    "sns.barplot(x=top_5_categories.index, y=top_5_categories.values, palette=\"Set3\");"
   ]
  },
  {
   "cell_type": "code",
   "execution_count": 28,
   "metadata": {},
   "outputs": [
    {
     "data": {
      "text/plain": [
       "<Axes: xlabel='category'>"
      ]
     },
     "execution_count": 28,
     "metadata": {},
     "output_type": "execute_result"
    },
    {
     "data": {
      "image/png": "[encoded data removed]",
      "text/plain": [
       "<Figure size 640x480 with 1 Axes>"
      ]
     },
     "metadata": {},
     "output_type": "display_data"
    }
   ],
   "source": [
    "sns.barplot(x=top_5_categories.index, y=top_5_categories.values)"
   ]
  },
  {
   "cell_type": "code",
   "execution_count": 39,
   "metadata": {},
   "outputs": [
    {
     "data": {
      "text/plain": [
       "Text(0.5, 1.0, 'Top 5 Product Categories')"
      ]
     },
     "execution_count": 39,
     "metadata": {},
     "output_type": "execute_result"
    },
    {
     "data": {
      "image/png": "[encoded data removed]",
      "text/plain": [
       "<Figure size 800x600 with 1 Axes>"
      ]
     },
     "metadata": {},
     "output_type": "display_data"
    }
   ],
   "source": [
    "plt.figure(figsize=(8, 6))\n",
    "top_5_categories.plot.pie(autopct='%1.1f%%', startangle=90)\n",
    "plt.title('Top 5 Product Categories')"
   ]
  },
  {
   "cell_type": "markdown",
   "metadata": {},
   "source": [
    "### Part 2: Delving into Product Pricing\n",
    "#### Business Question: How are products priced on Amazon UK, and are there specific price points or ranges that are more common?"
   ]
  },
  {
   "cell_type": "markdown",
   "metadata": {},
   "source": [
    "1. Measures of Centrality:\n",
    "\n",
    "Calculate the mean, median, and mode for the price of products.\n",
    "\n",
    "What's the average price point of products listed? How does this compare with the most common price point (mode)?"
   ]
  },
  {
   "cell_type": "code",
   "execution_count": 40,
   "metadata": {},
   "outputs": [
    {
     "data": {
      "text/html": [
       "<div>\n",
       "<style scoped>\n",
       "    .dataframe tbody tr th:only-of-type {\n",
       "        vertical-align: middle;\n",
       "    }\n",
       "\n",
       "    .dataframe tbody tr th {\n",
       "        vertical-align: top;\n",
       "    }\n",
       "\n",
       "    .dataframe thead th {\n",
       "        text-align: right;\n",
       "    }\n",
       "</style>\n",
       "<table border=\"1\" class=\"dataframe\">\n",
       "  <thead>\n",
       "    <tr style=\"text-align: right;\">\n",
       "      <th></th>\n",
       "      <th>uid</th>\n",
       "      <th>stars</th>\n",
       "      <th>reviews</th>\n",
       "      <th>price</th>\n",
       "      <th>boughtInLastMonth</th>\n",
       "    </tr>\n",
       "  </thead>\n",
       "  <tbody>\n",
       "    <tr>\n",
       "      <th>count</th>\n",
       "      <td>2.443651e+06</td>\n",
       "      <td>2.443651e+06</td>\n",
       "      <td>2.443651e+06</td>\n",
       "      <td>2.443651e+06</td>\n",
       "      <td>2.443651e+06</td>\n",
       "    </tr>\n",
       "    <tr>\n",
       "      <th>mean</th>\n",
       "      <td>1.370545e+06</td>\n",
       "      <td>2.152836e+00</td>\n",
       "      <td>4.806278e+02</td>\n",
       "      <td>8.924381e+01</td>\n",
       "      <td>2.589699e+01</td>\n",
       "    </tr>\n",
       "    <tr>\n",
       "      <th>std</th>\n",
       "      <td>8.160562e+05</td>\n",
       "      <td>2.194865e+00</td>\n",
       "      <td>5.944124e+03</td>\n",
       "      <td>3.456089e+02</td>\n",
       "      <td>2.404837e+02</td>\n",
       "    </tr>\n",
       "    <tr>\n",
       "      <th>min</th>\n",
       "      <td>1.000000e+00</td>\n",
       "      <td>0.000000e+00</td>\n",
       "      <td>0.000000e+00</td>\n",
       "      <td>0.000000e+00</td>\n",
       "      <td>0.000000e+00</td>\n",
       "    </tr>\n",
       "    <tr>\n",
       "      <th>25%</th>\n",
       "      <td>6.589215e+05</td>\n",
       "      <td>0.000000e+00</td>\n",
       "      <td>0.000000e+00</td>\n",
       "      <td>9.990000e+00</td>\n",
       "      <td>0.000000e+00</td>\n",
       "    </tr>\n",
       "    <tr>\n",
       "      <th>50%</th>\n",
       "      <td>1.349029e+06</td>\n",
       "      <td>0.000000e+00</td>\n",
       "      <td>0.000000e+00</td>\n",
       "      <td>1.909000e+01</td>\n",
       "      <td>0.000000e+00</td>\n",
       "    </tr>\n",
       "    <tr>\n",
       "      <th>75%</th>\n",
       "      <td>2.060686e+06</td>\n",
       "      <td>4.400000e+00</td>\n",
       "      <td>5.900000e+01</td>\n",
       "      <td>4.599000e+01</td>\n",
       "      <td>0.000000e+00</td>\n",
       "    </tr>\n",
       "    <tr>\n",
       "      <th>max</th>\n",
       "      <td>2.828593e+06</td>\n",
       "      <td>5.000000e+00</td>\n",
       "      <td>1.356658e+06</td>\n",
       "      <td>1.000000e+05</td>\n",
       "      <td>5.000000e+04</td>\n",
       "    </tr>\n",
       "  </tbody>\n",
       "</table>\n",
       "</div>"
      ],
      "text/plain": [
       "                uid         stars       reviews         price  \\\n",
       "count  2.443651e+06  2.443651e+06  2.443651e+06  2.443651e+06   \n",
       "mean   1.370545e+06  2.152836e+00  4.806278e+02  8.924381e+01   \n",
       "std    8.160562e+05  2.194865e+00  5.944124e+03  3.456089e+02   \n",
       "min    1.000000e+00  0.000000e+00  0.000000e+00  0.000000e+00   \n",
       "25%    6.589215e+05  0.000000e+00  0.000000e+00  9.990000e+00   \n",
       "50%    1.349029e+06  0.000000e+00  0.000000e+00  1.909000e+01   \n",
       "75%    2.060686e+06  4.400000e+00  5.900000e+01  4.599000e+01   \n",
       "max    2.828593e+06  5.000000e+00  1.356658e+06  1.000000e+05   \n",
       "\n",
       "       boughtInLastMonth  \n",
       "count       2.443651e+06  \n",
       "mean        2.589699e+01  \n",
       "std         2.404837e+02  \n",
       "min         0.000000e+00  \n",
       "25%         0.000000e+00  \n",
       "50%         0.000000e+00  \n",
       "75%         0.000000e+00  \n",
       "max         5.000000e+04  "
      ]
     },
     "execution_count": 40,
     "metadata": {},
     "output_type": "execute_result"
    }
   ],
   "source": [
    "#Calculate the mean, median, and mode for the price of products.\n",
    "df.describe()"
   ]
  },
  {
   "cell_type": "code",
   "execution_count": 82,
   "metadata": {},
   "outputs": [
    {
     "name": "stdout",
     "output_type": "stream",
     "text": [
      "['uid', 'asin', 'title', 'stars', 'reviews', 'price', 'isBestSeller', 'boughtInLastMonth', 'category']\n"
     ]
    }
   ],
   "source": [
    "column_list = df.columns.tolist()\n",
    "print(column_list)"
   ]
  },
  {
   "cell_type": "code",
   "execution_count": 41,
   "metadata": {},
   "outputs": [
    {
     "data": {
      "text/plain": [
       "89.24380943923663"
      ]
     },
     "execution_count": 41,
     "metadata": {},
     "output_type": "execute_result"
    }
   ],
   "source": [
    "df['price'].mean()"
   ]
  },
  {
   "cell_type": "code",
   "execution_count": 42,
   "metadata": {},
   "outputs": [
    {
     "data": {
      "text/plain": [
       "19.09"
      ]
     },
     "execution_count": 42,
     "metadata": {},
     "output_type": "execute_result"
    }
   ],
   "source": [
    "df['price'].median()"
   ]
  },
  {
   "cell_type": "code",
   "execution_count": 46,
   "metadata": {},
   "outputs": [
    {
     "data": {
      "text/plain": [
       "0    9.99\n",
       "Name: price, dtype: float64"
      ]
     },
     "execution_count": 46,
     "metadata": {},
     "output_type": "execute_result"
    }
   ],
   "source": [
    "# Showing the mode\n",
    "df['price'].mode()"
   ]
  },
  {
   "cell_type": "code",
   "execution_count": 45,
   "metadata": {},
   "outputs": [
    {
     "data": {
      "text/plain": [
       "price\n",
       "9.99       48922\n",
       "12.99      38823\n",
       "8.99       34058\n",
       "7.99       33632\n",
       "14.99      32570\n",
       "           ...  \n",
       "2398.99        1\n",
       "1453.08        1\n",
       "1785.63        1\n",
       "1347.36        1\n",
       "317.34         1\n",
       "Name: count, Length: 82916, dtype: int64"
      ]
     },
     "execution_count": 45,
     "metadata": {},
     "output_type": "execute_result"
    }
   ],
   "source": [
    "# Obtaining the mode a different way with value_counts()\n",
    "df['price'].value_counts()"
   ]
  },
  {
   "cell_type": "markdown",
   "metadata": {},
   "source": [
    "Observations:\n",
    "\n",
    "Most common price: $9.99\n",
    "\n",
    "Median price:  $19.09\n",
    "\n",
    "Average price: $89.24\n",
    "\n",
    "--> big variations: expensive articles are bought on amazon, explaining such difference between mean, median and mode = Sk < 0"
   ]
  },
  {
   "cell_type": "markdown",
   "metadata": {},
   "source": [
    " 2. Measures of Dispersion:\n",
    "\n",
    "Determine the variance, standard deviation, range, and interquartile range for product price.\n",
    "\n",
    "How varied are the product prices? Are there any indicators of a significant spread in prices?"
   ]
  },
  {
   "cell_type": "code",
   "execution_count": 47,
   "metadata": {},
   "outputs": [
    {
     "data": {
      "text/html": [
       "<div>\n",
       "<style scoped>\n",
       "    .dataframe tbody tr th:only-of-type {\n",
       "        vertical-align: middle;\n",
       "    }\n",
       "\n",
       "    .dataframe tbody tr th {\n",
       "        vertical-align: top;\n",
       "    }\n",
       "\n",
       "    .dataframe thead th {\n",
       "        text-align: right;\n",
       "    }\n",
       "</style>\n",
       "<table border=\"1\" class=\"dataframe\">\n",
       "  <thead>\n",
       "    <tr style=\"text-align: right;\">\n",
       "      <th></th>\n",
       "      <th>uid</th>\n",
       "      <th>stars</th>\n",
       "      <th>reviews</th>\n",
       "      <th>price</th>\n",
       "      <th>boughtInLastMonth</th>\n",
       "    </tr>\n",
       "  </thead>\n",
       "  <tbody>\n",
       "    <tr>\n",
       "      <th>count</th>\n",
       "      <td>2.443651e+06</td>\n",
       "      <td>2.443651e+06</td>\n",
       "      <td>2.443651e+06</td>\n",
       "      <td>2.443651e+06</td>\n",
       "      <td>2.443651e+06</td>\n",
       "    </tr>\n",
       "    <tr>\n",
       "      <th>mean</th>\n",
       "      <td>1.370545e+06</td>\n",
       "      <td>2.152836e+00</td>\n",
       "      <td>4.806278e+02</td>\n",
       "      <td>8.924381e+01</td>\n",
       "      <td>2.589699e+01</td>\n",
       "    </tr>\n",
       "    <tr>\n",
       "      <th>std</th>\n",
       "      <td>8.160562e+05</td>\n",
       "      <td>2.194865e+00</td>\n",
       "      <td>5.944124e+03</td>\n",
       "      <td>3.456089e+02</td>\n",
       "      <td>2.404837e+02</td>\n",
       "    </tr>\n",
       "    <tr>\n",
       "      <th>min</th>\n",
       "      <td>1.000000e+00</td>\n",
       "      <td>0.000000e+00</td>\n",
       "      <td>0.000000e+00</td>\n",
       "      <td>0.000000e+00</td>\n",
       "      <td>0.000000e+00</td>\n",
       "    </tr>\n",
       "    <tr>\n",
       "      <th>25%</th>\n",
       "      <td>6.589215e+05</td>\n",
       "      <td>0.000000e+00</td>\n",
       "      <td>0.000000e+00</td>\n",
       "      <td>9.990000e+00</td>\n",
       "      <td>0.000000e+00</td>\n",
       "    </tr>\n",
       "    <tr>\n",
       "      <th>50%</th>\n",
       "      <td>1.349029e+06</td>\n",
       "      <td>0.000000e+00</td>\n",
       "      <td>0.000000e+00</td>\n",
       "      <td>1.909000e+01</td>\n",
       "      <td>0.000000e+00</td>\n",
       "    </tr>\n",
       "    <tr>\n",
       "      <th>75%</th>\n",
       "      <td>2.060686e+06</td>\n",
       "      <td>4.400000e+00</td>\n",
       "      <td>5.900000e+01</td>\n",
       "      <td>4.599000e+01</td>\n",
       "      <td>0.000000e+00</td>\n",
       "    </tr>\n",
       "    <tr>\n",
       "      <th>max</th>\n",
       "      <td>2.828593e+06</td>\n",
       "      <td>5.000000e+00</td>\n",
       "      <td>1.356658e+06</td>\n",
       "      <td>1.000000e+05</td>\n",
       "      <td>5.000000e+04</td>\n",
       "    </tr>\n",
       "  </tbody>\n",
       "</table>\n",
       "</div>"
      ],
      "text/plain": [
       "                uid         stars       reviews         price  \\\n",
       "count  2.443651e+06  2.443651e+06  2.443651e+06  2.443651e+06   \n",
       "mean   1.370545e+06  2.152836e+00  4.806278e+02  8.924381e+01   \n",
       "std    8.160562e+05  2.194865e+00  5.944124e+03  3.456089e+02   \n",
       "min    1.000000e+00  0.000000e+00  0.000000e+00  0.000000e+00   \n",
       "25%    6.589215e+05  0.000000e+00  0.000000e+00  9.990000e+00   \n",
       "50%    1.349029e+06  0.000000e+00  0.000000e+00  1.909000e+01   \n",
       "75%    2.060686e+06  4.400000e+00  5.900000e+01  4.599000e+01   \n",
       "max    2.828593e+06  5.000000e+00  1.356658e+06  1.000000e+05   \n",
       "\n",
       "       boughtInLastMonth  \n",
       "count       2.443651e+06  \n",
       "mean        2.589699e+01  \n",
       "std         2.404837e+02  \n",
       "min         0.000000e+00  \n",
       "25%         0.000000e+00  \n",
       "50%         0.000000e+00  \n",
       "75%         0.000000e+00  \n",
       "max         5.000000e+04  "
      ]
     },
     "metadata": {},
     "output_type": "display_data"
    }
   ],
   "source": [
    "# [test: forget about this cell]\n",
    "\n",
    "rounded_df = df.round(2)\n",
    "description_dispersion = rounded_df.describe()\n",
    "display(description_dispersion)"
   ]
  },
  {
   "cell_type": "code",
   "execution_count": 60,
   "metadata": {},
   "outputs": [
    {
     "data": {
      "text/plain": [
       "119445.48532256528"
      ]
     },
     "execution_count": 60,
     "metadata": {},
     "output_type": "execute_result"
    }
   ],
   "source": [
    "std_dev_price = df['price'].var()\n",
    "std_dev_price"
   ]
  },
  {
   "cell_type": "code",
   "execution_count": 59,
   "metadata": {},
   "outputs": [
    {
     "data": {
      "text/plain": [
       "345.60886175352226"
      ]
     },
     "execution_count": 59,
     "metadata": {},
     "output_type": "execute_result"
    }
   ],
   "source": [
    "variance_price = df['price'].std()\n",
    "variance_price"
   ]
  },
  {
   "cell_type": "code",
   "execution_count": 62,
   "metadata": {},
   "outputs": [
    {
     "name": "stdout",
     "output_type": "stream",
     "text": [
      "100000.0\n",
      "0.0\n",
      "None\n"
     ]
    }
   ],
   "source": [
    "max_price = df['price'].max()\n",
    "print(max_price)\n",
    "\n",
    "min_price = print(df['price'].min())\n",
    "print(min_price)"
   ]
  },
  {
   "cell_type": "code",
   "execution_count": 53,
   "metadata": {},
   "outputs": [
    {
     "name": "stdout",
     "output_type": "stream",
     "text": [
      "Range of column: 100000.0\n"
     ]
    }
   ],
   "source": [
    "#calculating the range\n",
    "price_range = df['price'].max() - df['price'].min()\n",
    "print(\"Range of column:\", price_range)"
   ]
  },
  {
   "cell_type": "code",
   "execution_count": 56,
   "metadata": {},
   "outputs": [
    {
     "data": {
      "text/plain": [
       "Text(0, 0.5, 'Values')"
      ]
     },
     "execution_count": 56,
     "metadata": {},
     "output_type": "execute_result"
    },
    {
     "data": {
      "image/png": "[encoded data removed]",
      "text/plain": [
       "<Figure size 640x480 with 1 Axes>"
      ]
     },
     "metadata": {},
     "output_type": "display_data"
    }
   ],
   "source": [
    "df['price'].plot.box()\n",
    "plt.ylabel('Values')"
   ]
  },
  {
   "cell_type": "code",
   "execution_count": 58,
   "metadata": {},
   "outputs": [
    {
     "data": {
      "text/plain": [
       "0.25     9.99\n",
       "0.50    19.09\n",
       "0.75    45.99\n",
       "Name: price, dtype: float64"
      ]
     },
     "execution_count": 58,
     "metadata": {},
     "output_type": "execute_result"
    }
   ],
   "source": [
    "quantiles_price = df['price'].quantile([0.25, 0.5, 0.75])\n",
    "quantiles_price"
   ]
  },
  {
   "cell_type": "markdown",
   "metadata": {},
   "source": [
    "variance_price, std_dev_price, min_price, max_price, range_price, quantiles_price"
   ]
  },
  {
   "cell_type": "code",
   "execution_count": 76,
   "metadata": {},
   "outputs": [
    {
     "name": "stdout",
     "output_type": "stream",
     "text": [
      "variance_price:  {345.60886175352226}\n",
      "std_dev_price:  {119445.48532256528}\n",
      "min_price:  {None}\n",
      "max_price: {100000.0}\n",
      "price_range:  {100000.0}\n"
     ]
    },
    {
     "data": {
      "text/plain": [
       "0.25     9.99\n",
       "0.50    19.09\n",
       "0.75    45.99\n",
       "Name: price, dtype: float64"
      ]
     },
     "metadata": {},
     "output_type": "display_data"
    }
   ],
   "source": [
    "print(f'variance_price: ',{variance_price})\n",
    "print(f'std_dev_price: ', {std_dev_price}) \n",
    "print(f'min_price: ',{min_price})\n",
    "print(f'max_price:',{max_price} )\n",
    "print(f'price_range: ',{price_range})\n",
    "display(quantiles_price)"
   ]
  },
  {
   "cell_type": "markdown",
   "metadata": {},
   "source": [
    "std variation and variance are high !\n",
    "We may expect Sku > 0 = a big kurtosis"
   ]
  },
  {
   "cell_type": "markdown",
   "metadata": {},
   "source": [
    "3. Visualizations:\n",
    "\n",
    "Is there a specific price range where most products fall? Plot a histogram to visualize the distribution of product prices. If its hard to read these diagrams, think why this is, and explain how it could be solved..\n",
    "\n",
    "Are there products that are priced significantly higher than the rest? Use a box plot to showcase the spread and potential outliers in product pricing."
   ]
  },
  {
   "cell_type": "code",
   "execution_count": 77,
   "metadata": {},
   "outputs": [
    {
     "data": {
      "text/plain": [
       "(27.492977566280338, 4241.616412866518)"
      ]
     },
     "execution_count": 77,
     "metadata": {},
     "output_type": "execute_result"
    }
   ],
   "source": [
    "skewness_price = df['price'].skew()\n",
    "kurtosis_price = df['price'].kurtosis()\n",
    "\n",
    "skewness_price, kurtosis_price"
   ]
  },
  {
   "cell_type": "code",
   "execution_count": 80,
   "metadata": {},
   "outputs": [
    {
     "name": "stderr",
     "output_type": "stream",
     "text": [
      "d:\\Programmes\\Miniconda\\Lib\\site-packages\\seaborn\\_oldcore.py:1119: FutureWarning: use_inf_as_na option is deprecated and will be removed in a future version. Convert inf values to NaN before operating instead.\n",
      "  with pd.option_context('mode.use_inf_as_na', True):\n"
     ]
    },
    {
     "data": {
      "text/plain": [
       "<Axes: xlabel='price', ylabel='Count'>"
      ]
     },
     "execution_count": 80,
     "metadata": {},
     "output_type": "execute_result"
    },
    {
     "data": {
      "image/png": "[encoded data removed]",
      "text/plain": [
       "<Figure size 640x480 with 1 Axes>"
      ]
     },
     "metadata": {},
     "output_type": "display_data"
    }
   ],
   "source": [
    "# Plotting a histogram for the 'price' column of the  dataframe\n",
    "sns.histplot(df['price'], kde=True, bins=5, color=\"turquoise\")"
   ]
  },
  {
   "cell_type": "code",
   "execution_count": 81,
   "metadata": {},
   "outputs": [
    {
     "data": {
      "text/plain": [
       "(0.0, 100.0)"
      ]
     },
     "execution_count": 81,
     "metadata": {},
     "output_type": "execute_result"
    },
    {
     "data": {
      "image/png": "[encoded data removed]",
      "text/plain": [
       "<Figure size 640x480 with 1 Axes>"
      ]
     },
     "metadata": {},
     "output_type": "display_data"
    }
   ],
   "source": [
    "# Making a \"readable\" box plot\n",
    "\n",
    "df['price'].plot.box()\n",
    "plt.ylabel('Values')\n",
    "plt.title('Box Plot of the prices')\n",
    "plt.ylim(0, 100)"
   ]
  },
  {
   "cell_type": "markdown",
   "metadata": {},
   "source": [
    "### Part 3: Unpacking Product Ratings\n",
    "#### Business Question: How do customers rate products on Amazon UK, and are there any patterns or tendencies in the ratings?"
   ]
  },
  {
   "cell_type": "markdown",
   "metadata": {},
   "source": [
    "1. Measures of Centrality:\n",
    "\n",
    "Calculate the mean, median, and mode for the rating of products.\n",
    "\n",
    "How do customers generally rate products? Is there a common trend?"
   ]
  },
  {
   "cell_type": "code",
   "execution_count": 84,
   "metadata": {},
   "outputs": [
    {
     "data": {
      "text/plain": [
       "2.152836472966065"
      ]
     },
     "execution_count": 84,
     "metadata": {},
     "output_type": "execute_result"
    }
   ],
   "source": [
    "mean_dev_rating = df['stars'].mean()\n",
    "mean_dev_rating"
   ]
  },
  {
   "cell_type": "code",
   "execution_count": 85,
   "metadata": {},
   "outputs": [
    {
     "data": {
      "text/plain": [
       "0.0"
      ]
     },
     "execution_count": 85,
     "metadata": {},
     "output_type": "execute_result"
    }
   ],
   "source": [
    "median_dev_rating = df['stars'].median()\n",
    "median_dev_rating"
   ]
  },
  {
   "cell_type": "code",
   "execution_count": 86,
   "metadata": {},
   "outputs": [
    {
     "data": {
      "text/plain": [
       "0    0.0\n",
       "Name: stars, dtype: float64"
      ]
     },
     "execution_count": 86,
     "metadata": {},
     "output_type": "execute_result"
    }
   ],
   "source": [
    "mode_dev_rating = df['stars'].mode()\n",
    "mode_dev_rating"
   ]
  },
  {
   "cell_type": "code",
   "execution_count": 88,
   "metadata": {},
   "outputs": [
    {
     "data": {
      "text/plain": [
       "stars\n",
       "0.0    1225641\n",
       "4.5     151577\n",
       "4.6     136995\n",
       "4.4     136165\n",
       "5.0     128492\n",
       "4.3     112564\n",
       "4.7      94566\n",
       "4.2      86871\n",
       "4.0      66089\n",
       "4.1      65115\n",
       "4.8      41858\n",
       "3.9      36555\n",
       "3.8      27876\n",
       "3.7      21137\n",
       "3.6      16219\n",
       "3.5      14673\n",
       "3.0      12819\n",
       "4.9      11081\n",
       "3.4      10355\n",
       "1.0       8484\n",
       "3.3       8269\n",
       "3.2       5771\n",
       "3.1       4679\n",
       "2.0       3901\n",
       "2.9       3341\n",
       "2.8       2306\n",
       "2.7       2104\n",
       "2.5       2103\n",
       "2.6       1579\n",
       "2.4       1060\n",
       "2.3        734\n",
       "2.2        602\n",
       "2.1        540\n",
       "1.5        404\n",
       "1.9        300\n",
       "1.8        249\n",
       "1.7        177\n",
       "1.4        149\n",
       "1.6        147\n",
       "1.3         78\n",
       "1.2         23\n",
       "1.1          3\n",
       "Name: count, dtype: int64"
      ]
     },
     "execution_count": 88,
     "metadata": {},
     "output_type": "execute_result"
    }
   ],
   "source": [
    "# Obtaining the mode a different way with value_counts()\n",
    "df['stars'].value_counts()"
   ]
  },
  {
   "cell_type": "markdown",
   "metadata": {},
   "source": [
    "Median and mode seem to say that 0 star(s) is the main rating"
   ]
  },
  {
   "cell_type": "code",
   "execution_count": 83,
   "metadata": {},
   "outputs": [
    {
     "data": {
      "text/plain": [
       "4.81743402976196"
      ]
     },
     "execution_count": 83,
     "metadata": {},
     "output_type": "execute_result"
    }
   ],
   "source": []
  },
  {
   "cell_type": "markdown",
   "metadata": {},
   "source": [
    "2. Measures of Dispersion:\n",
    "\n",
    "Determine the variance, standard deviation, and interquartile range for product rating.\n",
    "\n",
    "Are the ratings consistent, or is there a wide variation in customer feedback?\n",
    "Shape of the Distribution:"
   ]
  },
  {
   "cell_type": "code",
   "execution_count": 91,
   "metadata": {},
   "outputs": [
    {
     "data": {
      "text/plain": [
       "2.1948653785054697"
      ]
     },
     "execution_count": 91,
     "metadata": {},
     "output_type": "execute_result"
    }
   ],
   "source": [
    "std_dev_rating = df['stars'].std()\n",
    "std_dev_rating"
   ]
  },
  {
   "cell_type": "code",
   "execution_count": 92,
   "metadata": {},
   "outputs": [
    {
     "data": {
      "text/plain": [
       "4.81743402976196"
      ]
     },
     "execution_count": 92,
     "metadata": {},
     "output_type": "execute_result"
    }
   ],
   "source": [
    "variance_rating = df['stars'].var()\n",
    "variance_rating"
   ]
  },
  {
   "cell_type": "code",
   "execution_count": 94,
   "metadata": {},
   "outputs": [
    {
     "name": "stdout",
     "output_type": "stream",
     "text": [
      "Range of column: 5.0\n"
     ]
    }
   ],
   "source": [
    "#calculating the range\n",
    "rating_range = df['stars'].max() - df['stars'].min()\n",
    "print(\"Range of column:\", rating_range)"
   ]
  },
  {
   "cell_type": "code",
   "execution_count": 96,
   "metadata": {},
   "outputs": [
    {
     "data": {
      "text/plain": [
       "0.25    0.0\n",
       "0.50    0.0\n",
       "0.75    4.4\n",
       "Name: stars, dtype: float64"
      ]
     },
     "execution_count": 96,
     "metadata": {},
     "output_type": "execute_result"
    }
   ],
   "source": [
    "quantiles_rating = df['stars'].quantile([0.25, 0.5, 0.75])\n",
    "quantiles_rating"
   ]
  },
  {
   "cell_type": "code",
   "execution_count": 97,
   "metadata": {},
   "outputs": [
    {
     "name": "stdout",
     "output_type": "stream",
     "text": [
      "variance_price:  {4.81743402976196}\n",
      "std_dev_rating:  {2.1948653785054697}\n",
      "rating_range:  {5.0}\n"
     ]
    },
    {
     "data": {
      "text/plain": [
       "0.25    0.0\n",
       "0.50    0.0\n",
       "0.75    4.4\n",
       "Name: stars, dtype: float64"
      ]
     },
     "metadata": {},
     "output_type": "display_data"
    }
   ],
   "source": [
    "print(f'variance_price: ',{variance_rating})\n",
    "print(f'std_dev_rating: ', {std_dev_rating}) \n",
    "print(f'rating_range: ',{rating_range})\n",
    "display(quantiles_rating)"
   ]
  },
  {
   "cell_type": "markdown",
   "metadata": {},
   "source": [
    "3. Calculate the skewness and kurtosis for the rating column.\n",
    "\n",
    "Are the ratings normally distributed, or do they lean towards higher or lower values?"
   ]
  },
  {
   "cell_type": "code",
   "execution_count": 98,
   "metadata": {},
   "outputs": [
    {
     "data": {
      "text/plain": [
       "(0.08120735761080985, -1.9260061280432985)"
      ]
     },
     "execution_count": 98,
     "metadata": {},
     "output_type": "execute_result"
    }
   ],
   "source": [
    "skewness_price = df['stars'].skew()\n",
    "kurtosis_price = df['stars'].kurtosis()\n",
    "\n",
    "skewness_price, kurtosis_price"
   ]
  },
  {
   "cell_type": "markdown",
   "metadata": {},
   "source": [
    "\n",
    "4. Visualizations:\n",
    "\n",
    "Plot a histogram to visualize the distribution of product ratings. Is there a specific rating that is more common ?"
   ]
  },
  {
   "cell_type": "code",
   "execution_count": 100,
   "metadata": {},
   "outputs": [
    {
     "name": "stderr",
     "output_type": "stream",
     "text": [
      "d:\\Programmes\\Miniconda\\Lib\\site-packages\\seaborn\\_oldcore.py:1119: FutureWarning: use_inf_as_na option is deprecated and will be removed in a future version. Convert inf values to NaN before operating instead.\n",
      "  with pd.option_context('mode.use_inf_as_na', True):\n"
     ]
    },
    {
     "data": {
      "text/plain": [
       "<Axes: xlabel='stars', ylabel='Count'>"
      ]
     },
     "execution_count": 100,
     "metadata": {},
     "output_type": "execute_result"
    },
    {
     "data": {
      "image/png": "[encoded data removed]",
      "text/plain": [
       "<Figure size 640x480 with 1 Axes>"
      ]
     },
     "metadata": {},
     "output_type": "display_data"
    }
   ],
   "source": [
    "sns.histplot(df['stars'], kde=True, bins=30, color=\"turquoise\")"
   ]
  },
  {
   "cell_type": "markdown",
   "metadata": {},
   "source": [
    "Is there a specific rating that is more common?\n",
    "--> Yes definitley: - majotity of 0 star   \n",
    "- almost no rating between 1 and 4 \n",
    "- around 4.5 stars for the rest"
   ]
  },
  {
   "cell_type": "code",
   "execution_count": 101,
   "metadata": {},
   "outputs": [
    {
     "data": {
      "text/plain": [
       "<Axes: >"
      ]
     },
     "execution_count": 101,
     "metadata": {},
     "output_type": "execute_result"
    },
    {
     "data": {
      "image/png": "[encoded data removed]",
      "text/plain": [
       "<Figure size 640x480 with 1 Axes>"
      ]
     },
     "metadata": {},
     "output_type": "display_data"
    }
   ],
   "source": [
    "sns.boxplot(data = df['stars'], color=\"lightblue\")"
   ]
  },
  {
   "cell_type": "markdown",
   "metadata": {},
   "source": [
    "My opinion: There's a problem with the 0 star rating - obviously rating not achieved automatically rate the products to 0..."
   ]
  }
 ],
 "metadata": {
  "kernelspec": {
   "display_name": "base",
   "language": "python",
   "name": "python3"
  },
  "language_info": {
   "codemirror_mode": {
    "name": "ipython",
    "version": 3
   },
   "file_extension": ".py",
   "mimetype": "text/x-python",
   "name": "python",
   "nbconvert_exporter": "python",
   "pygments_lexer": "ipython3",
   "version": "3.12.2"
  }
 },
 "nbformat": 4,
 "nbformat_minor": 2
}
